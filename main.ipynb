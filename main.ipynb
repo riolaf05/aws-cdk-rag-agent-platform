{
 "cells": [
  {
   "cell_type": "code",
   "execution_count": null,
   "metadata": {},
   "outputs": [],
   "source": [
    "!python -m PyPaperBot --query=\"Quantum Computing\" --scholar-pages=3  --min-year=2018 --dwn-dir=\"./documents\" --scihub-mirror=\"https://sci-hub.do\""
   ]
  }
 ],
 "metadata": {
  "kernelspec": {
   "display_name": "rag",
   "language": "python",
   "name": "python3"
  },
  "language_info": {
   "name": "python",
   "version": "3.12.0"
  }
 },
 "nbformat": 4,
 "nbformat_minor": 2
}
